{
 "cells": [
  {
   "metadata": {},
   "cell_type": "markdown",
   "source": "# Aufgabe 04",
   "id": "322d4633a9c2dcb5"
  },
  {
   "cell_type": "code",
   "id": "initial_id",
   "metadata": {
    "collapsed": true,
    "ExecuteTime": {
     "end_time": "2024-05-17T16:14:26.238161Z",
     "start_time": "2024-05-17T16:14:25.399628Z"
    }
   },
   "source": [
    "# Install dependencies\n",
    "!pip install networkx pygraphviz matplotlib"
   ],
   "outputs": [
    {
     "name": "stdout",
     "output_type": "stream",
     "text": [
      "Requirement already satisfied: networkx in ./venv/lib/python3.12/site-packages (3.3)\r\n",
      "Requirement already satisfied: pygraphviz in ./venv/lib/python3.12/site-packages (1.12)\r\n",
      "Requirement already satisfied: matplotlib in ./venv/lib/python3.12/site-packages (3.8.4)\r\n",
      "Requirement already satisfied: contourpy>=1.0.1 in ./venv/lib/python3.12/site-packages (from matplotlib) (1.2.1)\r\n",
      "Requirement already satisfied: cycler>=0.10 in ./venv/lib/python3.12/site-packages (from matplotlib) (0.12.1)\r\n",
      "Requirement already satisfied: fonttools>=4.22.0 in ./venv/lib/python3.12/site-packages (from matplotlib) (4.51.0)\r\n",
      "Requirement already satisfied: kiwisolver>=1.3.1 in ./venv/lib/python3.12/site-packages (from matplotlib) (1.4.5)\r\n",
      "Requirement already satisfied: numpy>=1.21 in ./venv/lib/python3.12/site-packages (from matplotlib) (1.26.4)\r\n",
      "Requirement already satisfied: packaging>=20.0 in ./venv/lib/python3.12/site-packages (from matplotlib) (24.0)\r\n",
      "Requirement already satisfied: pillow>=8 in ./venv/lib/python3.12/site-packages (from matplotlib) (10.3.0)\r\n",
      "Requirement already satisfied: pyparsing>=2.3.1 in ./venv/lib/python3.12/site-packages (from matplotlib) (3.1.2)\r\n",
      "Requirement already satisfied: python-dateutil>=2.7 in ./venv/lib/python3.12/site-packages (from matplotlib) (2.9.0.post0)\r\n",
      "Requirement already satisfied: six>=1.5 in ./venv/lib/python3.12/site-packages (from python-dateutil>=2.7->matplotlib) (1.16.0)\r\n"
     ]
    }
   ],
   "execution_count": 32
  },
  {
   "metadata": {
    "ExecuteTime": {
     "end_time": "2024-05-17T16:14:26.241484Z",
     "start_time": "2024-05-17T16:14:26.239200Z"
    }
   },
   "cell_type": "code",
   "source": [
    "import os\n",
    "\n",
    "import networkx as nx\n",
    "from IPython.display import Image\n",
    "from networkx.drawing.nx_agraph import to_agraph\n",
    "\n",
    "# Ensure the assets directory exists\n",
    "os.makedirs('assets', exist_ok=True)\n",
    "\n",
    "prefix = \"aufgabe_04\""
   ],
   "id": "24623c337dfa9bb8",
   "outputs": [],
   "execution_count": 33
  },
  {
   "metadata": {},
   "cell_type": "markdown",
   "source": [
    "# IsSubgraph function\n",
    "an implementaiton of an subgraph function, a graph is a subgraph when all nodes and edges are a subset of all nodes and edges of the other graph."
   ],
   "id": "a9df868e5eb1e6ab"
  },
  {
   "metadata": {
    "ExecuteTime": {
     "end_time": "2024-05-17T16:14:26.243833Z",
     "start_time": "2024-05-17T16:14:26.242050Z"
    }
   },
   "cell_type": "code",
   "source": [
    "def is_subgraph(small, big):\n",
    "    \"\"\"Check if small is a subgraph of big in the mathematical sense.\"\"\"\n",
    "    # Check if all nodes of small are in big\n",
    "    if not set(small.nodes()).issubset(set(big.nodes())):\n",
    "        return False\n",
    "    # Check if all edges of small are in big\n",
    "    if not set(small.edges()).issubset(set(big.edges())):\n",
    "        return False\n",
    "    return True"
   ],
   "id": "ab43136a4e4a0e35",
   "outputs": [],
   "execution_count": 34
  },
  {
   "metadata": {},
   "cell_type": "markdown",
   "source": "# ",
   "id": "b6a3dcc9b62a3240"
  },
  {
   "metadata": {
    "ExecuteTime": {
     "end_time": "2024-05-17T16:14:26.990606Z",
     "start_time": "2024-05-17T16:14:26.244889Z"
    }
   },
   "cell_type": "code",
   "source": [
    "h1_edges = [('a', 'b'), ('a', 'd')]\n",
    "h1 = nx.Graph()\n",
    "h1.add_edges_from(h1_edges)\n",
    "\n",
    "h2_edges = [('a', 'b'), ('a', 'd'), ('b', 'c'), ('d', 'e')]\n",
    "h2 = nx.Graph()\n",
    "h2.add_edges_from(h2_edges)\n",
    "\n",
    "h3_edges = [('a', 'b')]\n",
    "h3 = nx.Graph()\n",
    "h3.add_nodes_from(['a', 'b', 'f'])\n",
    "h3.add_edges_from(h3_edges)\n",
    "\n",
    "h4_edges = []\n",
    "h4 = nx.Graph()\n",
    "h4.add_nodes_from(['d', 'e'])\n",
    "h4.add_edges_from(h4_edges)\n",
    "\n",
    "G = nx.Graph()\n",
    "G.add_edges_from([('a', 'b'), ('a', 'd'), ('c', 'e'), ('b', 'c'), ('e', 'd')])\n",
    "\n",
    "graphs = [h1, h2, h3, h4]\n",
    "titles = [\"h1\", \"h2\", \"h3\", \"h4\"]\n",
    "\n",
    "for idx, (graph, title) in enumerate(zip(graphs, titles), 1):\n",
    "    a = to_agraph(graph)\n",
    "    filename = f\"assets/{prefix}_h{idx}.png\"\n",
    "    # Draw using AGraph\n",
    "    a.draw(filename, format=\"png\", prog=\"dot\")\n",
    "    # Display the result\n",
    "    display(Image(filename=filename))\n"
   ],
   "id": "4bdab07b6093a9d2",
   "outputs": [
    {
     "data": {
      "image/png": "[encoded data removed]",
      "text/plain": [
       "<IPython.core.display.Image object>"
      ]
     },
     "metadata": {},
     "output_type": "display_data"
    },
    {
     "data": {
      "image/png": "[encoded data removed]",
      "text/plain": [
       "<IPython.core.display.Image object>"
      ]
     },
     "metadata": {},
     "output_type": "display_data"
    },
    {
     "data": {
      "image/png": "[encoded data removed]",
      "text/plain": [
       "<IPython.core.display.Image object>"
      ]
     },
     "metadata": {},
     "output_type": "display_data"
    },
    {
     "data": {
      "image/png": "[encoded data removed]",
      "text/plain": [
       "<IPython.core.display.Image object>"
      ]
     },
     "metadata": {},
     "output_type": "display_data"
    }
   ],
   "execution_count": 35
  },
  {
   "metadata": {
    "ExecuteTime": {
     "end_time": "2024-05-17T16:14:26.992772Z",
     "start_time": "2024-05-17T16:14:26.991130Z"
    }
   },
   "cell_type": "code",
   "source": [
    "\n",
    "for i in range(len(graphs)):\n",
    "    if is_subgraph(graphs[j], G):\n",
    "        print(f\"{titles[i]} is a subgraph of G\")\n"
   ],
   "id": "4a1c030576647b87",
   "outputs": [
    {
     "name": "stdout",
     "output_type": "stream",
     "text": [
      "h1 is a subgraph of G\n",
      "h2 is a subgraph of G\n",
      "h3 is a subgraph of G\n",
      "h4 is a subgraph of G\n"
     ]
    }
   ],
   "execution_count": 36
  },
  {
   "metadata": {
    "ExecuteTime": {
     "end_time": "2024-05-17T16:14:26.994479Z",
     "start_time": "2024-05-17T16:14:26.993254Z"
    }
   },
   "cell_type": "code",
   "source": "",
   "id": "5dad32079003a5f2",
   "outputs": [],
   "execution_count": 36
  }
 ],
 "metadata": {
  "kernelspec": {
   "display_name": "Python 3",
   "language": "python",
   "name": "python3"
  },
  "language_info": {
   "codemirror_mode": {
    "name": "ipython",
    "version": 2
   },
   "file_extension": ".py",
   "mimetype": "text/x-python",
   "name": "python",
   "nbconvert_exporter": "python",
   "pygments_lexer": "ipython2",
   "version": "2.7.6"
  }
 },
 "nbformat": 4,
 "nbformat_minor": 5
}
