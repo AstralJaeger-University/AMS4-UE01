{
 "cells": [
  {
   "metadata": {},
   "cell_type": "markdown",
   "source": "# Aufgabe 05 - Visualisierung",
   "id": "76cfcbeacc18e122"
  },
  {
   "metadata": {},
   "cell_type": "code",
   "outputs": [],
   "execution_count": null,
   "source": [
    "# Install dependencies\n",
    "!pip install networkx pygraphviz matplotlib"
   ],
   "id": "8a16282f414e9c32"
  },
  {
   "cell_type": "code",
   "execution_count": null,
   "id": "initial_id",
   "metadata": {
    "collapsed": true
   },
   "outputs": [],
   "source": [
    "import networkx as nx\n",
    "import matplotlib.pyplot as plt"
   ]
  },
  {
   "metadata": {},
   "cell_type": "code",
   "outputs": [],
   "execution_count": null,
   "source": [
    "edges = [(1, 2), (2, 3), (3, 4), (2, 4), (2, 5), (5, 6), (5, 7), (7, 8), (6, 8), (6, 1)]\n",
    "\n",
    "# Step 1: Create a graph\n",
    "g = nx.Graph()\n",
    "g.add_edges_from(edges)\n",
    "\n",
    "# Step 2: Convert to AGraph (Graphviz graph)\n",
    "a = to_agraph(g)"
   ],
   "id": "8d2e65c82f195d8a"
  }
 ],
 "metadata": {
  "kernelspec": {
   "display_name": "Python 3",
   "language": "python",
   "name": "python3"
  },
  "language_info": {
   "codemirror_mode": {
    "name": "ipython",
    "version": 2
   },
   "file_extension": ".py",
   "mimetype": "text/x-python",
   "name": "python",
   "nbconvert_exporter": "python",
   "pygments_lexer": "ipython2",
   "version": "2.7.6"
  }
 },
 "nbformat": 4,
 "nbformat_minor": 5
}
